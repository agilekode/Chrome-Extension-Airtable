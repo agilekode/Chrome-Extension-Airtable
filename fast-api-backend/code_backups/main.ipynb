{
 "cells": [
  {
   "cell_type": "code",
   "execution_count": 1,
   "metadata": {},
   "outputs": [
    {
     "ename": "ModuleNotFoundError",
     "evalue": "No module named 'PyPDF2'",
     "output_type": "error",
     "traceback": [
      "\u001b[31m---------------------------------------------------------------------------\u001b[39m",
      "\u001b[31mModuleNotFoundError\u001b[39m                       Traceback (most recent call last)",
      "\u001b[36mCell\u001b[39m\u001b[36m \u001b[39m\u001b[32mIn[1]\u001b[39m\u001b[32m, line 1\u001b[39m\n\u001b[32m----> \u001b[39m\u001b[32m1\u001b[39m \u001b[38;5;28;01mfrom\u001b[39;00m\u001b[38;5;250m \u001b[39m\u001b[34;01mapp\u001b[39;00m\u001b[38;5;250m \u001b[39m\u001b[38;5;28;01mimport\u001b[39;00m ingest_pdfs\n",
      "\u001b[36mFile \u001b[39m\u001b[32m~/Documents/extensions/fast-api-backend/app.py:8\u001b[39m\n\u001b[32m      6\u001b[39m \u001b[38;5;28;01mfrom\u001b[39;00m\u001b[38;5;250m \u001b[39m\u001b[34;01mlangchain\u001b[39;00m\u001b[34;01m.\u001b[39;00m\u001b[34;01mtext_splitter\u001b[39;00m\u001b[38;5;250m \u001b[39m\u001b[38;5;28;01mimport\u001b[39;00m RecursiveCharacterTextSplitter\n\u001b[32m      7\u001b[39m \u001b[38;5;28;01mfrom\u001b[39;00m\u001b[38;5;250m \u001b[39m\u001b[34;01mlangchain_google_genai\u001b[39;00m\u001b[38;5;250m \u001b[39m\u001b[38;5;28;01mimport\u001b[39;00m GoogleGenerativeAIEmbeddings\n\u001b[32m----> \u001b[39m\u001b[32m8\u001b[39m \u001b[38;5;28;01mfrom\u001b[39;00m\u001b[38;5;250m \u001b[39m\u001b[34;01mPyPDF2\u001b[39;00m\u001b[38;5;250m \u001b[39m\u001b[38;5;28;01mimport\u001b[39;00m PdfReader\n\u001b[32m      9\u001b[39m \u001b[38;5;28;01mfrom\u001b[39;00m\u001b[38;5;250m \u001b[39m\u001b[34;01mdotenv\u001b[39;00m\u001b[38;5;250m \u001b[39m\u001b[38;5;28;01mimport\u001b[39;00m load_dotenv\n\u001b[32m     10\u001b[39m \u001b[38;5;28;01mfrom\u001b[39;00m\u001b[38;5;250m \u001b[39m\u001b[34;01mlangchain_google_genai\u001b[39;00m\u001b[38;5;250m \u001b[39m\u001b[38;5;28;01mimport\u001b[39;00m GoogleGenerativeAI\n",
      "\u001b[31mModuleNotFoundError\u001b[39m: No module named 'PyPDF2'"
     ]
    }
   ],
   "source": [
    "from app import ingest_pdfs"
   ]
  },
  {
   "cell_type": "code",
   "execution_count": 1,
   "id": "343574db",
   "metadata": {},
   "outputs": [
    {
     "name": "stdout",
     "output_type": "stream",
     "text": [
      "Record ID: recHeve97hM2ElriP\n",
      "Fields: {'Policy Name': 'WV HOME POLICY', 'Line of Business': 'Homeowners', 'Carrier': 'Erie', 'Notes': 'WV ESH', 'Endorsement Toggle': True, 'Endorsements': ['rec7GNJqKDM30FDmZ'], 'Number of Endorsements': 1, 'Latest Endorsement Effective Date': '2025-08-19', 'policy attachments': [{'id': 'attuOwEUOVlP2G9No', 'url': 'https://v5.airtableusercontent.com/v3/u/44/44/1755871200000/5_Tet2jfdIQZNxmPPlhe-w/vcevXYOGrlgx7ZbzMpr2aVlSDhzjhY37Byy9UpT3MUqU8tKfmRBMZ_EmhVgNfn5t048eQSJMv1easQwl2c_MF6IL3wqJIeSBGvEL6pJmXnyBZdwY_SsAEE9UOiikUG-n2avSgopNlzpq7ZMHZDjdQ3ynX6IPkyZ9E7JaZh7PUAikmaOYLooOdJqGwKKM1oXg/Owhh_GcLe0_c3bEWBK1d-HM67_JqLrXYTrLpo53fcCU', 'filename': 'erie home insurance policy wv.pdf', 'size': 2639762, 'type': 'application/pdf', 'thumbnails': {'small': {'url': 'https://v5.airtableusercontent.com/v3/u/44/44/1755871200000/9yhbTdT1y3qNwD8KMRN0Gw/SQuiC-81UAcpEPHzBLfD5S_h6iTmjjv6TFK0NXVk7cNn608z_Ajtop4hx8YDFKUiETvirIijBcbC3R83MT0Q9_Gn4W8Dfh1QCMQAwIcR4kb00_g6i4TY7BROxViPHPlGkae_T48xf9l3JckvzhOq_A/4se-J1s2MogDEuPz7RKVdTJHR9o-oX61pI43pzv47p0', 'width': 28, 'height': 36}, 'large': {'url': 'https://v5.airtableusercontent.com/v3/u/44/44/1755871200000/lVfzctiBeLuhnnOBTt-pJw/P44hYyiyBhP_zd77WHKyx4GnLskeKpzq-UHrfnEgE5g3WB-Lk50D7XlMyjwpEQsZlZTCy8k3DGM0Vm7BpkVvddFncZWbtxs38gFRQLXJg5KJV-Xn03ByyTVAydGc5oE8FZbTpWaB9I1HRxSVmChhdA/4dYNRgCFbhmtBZvbH2DlKz0aZNoTFqS-degH7t0svZo', 'width': 512, 'height': 663}}}]}\n",
      "--------------------------------------------------\n"
     ]
    }
   ],
   "source": [
    "import requests\n",
    "import os\n",
    "# Airtable Config\n",
    "AIRTABLE_BASE_ID = \"appwJKupDUFug875s\"   # replace with your base ID\n",
    "AIRTABLE_TABLE_NAME = \"Erie Policies\"         # replace with your table name\n",
    "AIRTABLE_API_KEY = os.getenv(\"AIRTABLE_API_KEY\")\n",
    "\n",
    "# Search term\n",
    "SEARCH_TERM = \"WV HOME POLICY\"\n",
    "SEARCH_COLUMN = \"Policy Name\"  # your Airtable column name\n",
    "\n",
    "# Endpoint\n",
    "url = f\"https://api.airtable.com/v0/{AIRTABLE_BASE_ID}/{AIRTABLE_TABLE_NAME}\"\n",
    "\n",
    "# Airtable formula for exact match (case-sensitive)\n",
    "formula = f\"{{{SEARCH_COLUMN}}}='{SEARCH_TERM}'\"\n",
    "\n",
    "headers = {\n",
    "    \"Authorization\": f\"Bearer {AIRTABLE_API_KEY}\"\n",
    "}\n",
    "\n",
    "params = {\n",
    "    \"filterByFormula\": formula,\n",
    "    \"maxRecords\": 10  # optional, to limit\n",
    "}\n",
    "\n",
    "response = requests.get(url, headers=headers, params=params)\n",
    "\n",
    "if response.status_code == 200:\n",
    "    records = response.json().get(\"records\", [])\n",
    "    if records:\n",
    "        for r in records:\n",
    "            print(\"Record ID:\", r[\"id\"])\n",
    "            print(\"Fields:\", r[\"fields\"])\n",
    "            print(\"-\" * 50)\n",
    "    else:\n",
    "        print(\"No matching records found.\")\n",
    "else:\n",
    "    print(\"Error:\", response.status_code, response.text)\n"
   ]
  },
  {
   "cell_type": "code",
   "execution_count": 12,
   "id": "4fc4b8c7",
   "metadata": {},
   "outputs": [
    {
     "name": "stdout",
     "output_type": "stream",
     "text": [
      "{'tables': [{'id': 'tblu2Ck0L9cE5DbSz', 'name': 'Erie Policies', 'primaryFieldId': 'fld9vWLu9iaxeeZ9y', 'fields': [{'type': 'singleLineText', 'id': 'fld9vWLu9iaxeeZ9y', 'name': 'Policy Name'}, {'type': 'singleSelect', 'options': {'choices': [{'id': 'selrmCL3Ug765ruEV', 'name': 'Homeowners', 'color': 'blueLight2'}, {'id': 'sel0m1sPCIUxGqNzl', 'name': 'Auto', 'color': 'cyanLight2'}]}, 'id': 'fldYTdA1OH0L3TVyH', 'name': 'Line of Business'}, {'type': 'singleSelect', 'options': {'choices': [{'id': 'selPObA2mbNL1rdKr', 'name': 'Erie', 'color': 'blueLight2'}]}, 'id': 'fldEkNfUNtoR6wV3Z', 'name': 'Carrier'}, {'type': 'multilineText', 'id': 'fldsLW7WMVlZp84Y0', 'name': 'Notes'}, {'type': 'checkbox', 'options': {'icon': 'thumbsUp', 'color': 'greenBright'}, 'id': 'fld2xIafKL1Lh4UMb', 'name': 'Endorsement Toggle'}, {'type': 'multipleRecordLinks', 'options': {'linkedTableId': 'tbltoWibXc9u9LoPi', 'isReversed': False, 'prefersSingleRecordLink': False, 'inverseLinkFieldId': 'fldW45rdAk4BPOg8i'}, 'id': 'fldHrkSa7uA9It6XL', 'name': 'Endorsements'}, {'type': 'count', 'options': {'isValid': True, 'recordLinkFieldId': 'fldHrkSa7uA9It6XL'}, 'id': 'fld0Le4GWwhsT61JU', 'name': 'Number of Endorsements'}, {'type': 'rollup', 'options': {'isValid': True, 'recordLinkFieldId': 'fldHrkSa7uA9It6XL', 'fieldIdInLinkedTable': 'fldlNpgVRdnoIRvni', 'referencedFieldIds': [], 'result': {'type': 'date', 'options': {'dateFormat': {'name': 'us', 'format': 'M/D/YYYY'}}}}, 'id': 'fldjjXlTTCUsqi7DL', 'name': 'Latest Endorsement Effective Date'}, {'type': 'multipleAttachments', 'options': {'isReversed': False}, 'id': 'fldGBZf9LrdpLcGbg', 'name': 'policy attachments'}, {'type': 'url', 'id': 'fldcrKS7kkpekZ6F6', 'name': 'Policy Urls Pdf'}], 'views': [{'id': 'viw6otiEbrhKE416e', 'name': 'Grid view', 'type': 'grid'}]}, {'id': 'tbltoWibXc9u9LoPi', 'name': 'Endorsements', 'primaryFieldId': 'fldXlcVZo4lJpsBcl', 'fields': [{'type': 'singleLineText', 'id': 'fldXlcVZo4lJpsBcl', 'name': 'Endorsement Name'}, {'type': 'date', 'options': {'dateFormat': {'name': 'local', 'format': 'l'}}, 'id': 'fldlNpgVRdnoIRvni', 'name': 'Effective Date'}, {'type': 'multipleRecordLinks', 'options': {'linkedTableId': 'tblu2Ck0L9cE5DbSz', 'isReversed': False, 'prefersSingleRecordLink': True, 'inverseLinkFieldId': 'fldHrkSa7uA9It6XL'}, 'id': 'fldW45rdAk4BPOg8i', 'name': 'Linked Policy'}, {'type': 'multipleLookupValues', 'options': {'isValid': True, 'recordLinkFieldId': 'fldW45rdAk4BPOg8i', 'fieldIdInLinkedTable': 'fldYTdA1OH0L3TVyH', 'result': {'type': 'singleLineText'}}, 'id': 'fldbCVBdbAIq6F0qS', 'name': 'Policy Line of Business'}, {'type': 'formula', 'options': {'isValid': True, 'formula': \"DATETIME_DIFF({fldlNpgVRdnoIRvni}, TODAY(), 'days')\", 'referencedFieldIds': ['fldlNpgVRdnoIRvni'], 'result': {'type': 'number', 'options': {'precision': 0}}}, 'id': 'fldv1kK8PlfloU9Uj', 'name': 'Days Until Effective'}, {'type': 'aiText', 'options': {'referencedFieldIds': ['fldW45rdAk4BPOg8i', 'fldbCVBdbAIq6F0qS'], 'prompt': ['You are an insurance documentation assistant specializing in summarizing policy notes for home and auto insurance endorsements. Maintain a professional and concise tone, focusing on clarity and relevance for insurance professionals.\\n\\nTask description:\\nReview the notes from the linked insurance policy and extract the most important points relevant to this specific endorsement. Focus on summarizing any changes, coverage details, or special considerations that pertain to the endorsement and its line of business. Exclude unrelated information and keep the summary brief and actionable.\\n\\nOutput format:\\nProvide a summary in plain text, listing only the key points relevant to the endorsement. Do not include any introductory or concluding statements, and do not reference the policy or endorsement by name. If no relevant notes are found, output \"No relevant notes available.\" Example: \"Coverage extended to include water backup. Increased deductible to $1,000. Excludes flood damage.\"\\n\\nContext and Data:\\nLinked Policy: ', {'field': {'fieldId': 'fldW45rdAk4BPOg8i'}}, '\\nPolicy Line of Business: ', {'field': {'fieldId': 'fldbCVBdbAIq6F0qS'}}, '\\n\\nOutput:\\n']}, 'id': 'fldtN7kCEGTRE7IiB', 'name': 'Notes Summary (AI)'}, {'type': 'aiText', 'options': {'referencedFieldIds': ['fldXlcVZo4lJpsBcl', 'fldbCVBdbAIq6F0qS'], 'prompt': ['You are an insurance product analyst with expertise in categorizing policy endorsements for home and auto insurance. Use a clear, professional, and succinct style appropriate for insurance records.\\n\\nTask description:\\nAnalyze the endorsement name and the policy line of business to determine the most appropriate category for the endorsement. Choose from the following categories: Coverage Change, Premium Adjustment, Exclusion, or Other. Use your insurance knowledge to select the category that best fits the endorsement\\'s purpose. If unsure, select \"Other.\"\\n\\nOutput format:\\nOutput only the category name as plain text (Coverage Change, Premium Adjustment, Exclusion, or Other). Do not include any additional explanation or text. If the category cannot be determined, output \"Other.\" Example: \"Coverage Change\"\\n\\nContext and Data:\\nEndorsement Name: ', {'field': {'fieldId': 'fldXlcVZo4lJpsBcl'}}, '\\nPolicy Line of Business: ', {'field': {'fieldId': 'fldbCVBdbAIq6F0qS'}}, '\\n\\nOutput:\\n']}, 'id': 'fldOlSXd8DxOdVD7d', 'name': 'Endorsement Category (AI)'}, {'type': 'multipleAttachments', 'options': {'isReversed': True}, 'id': 'fldzlijFGnqoVBVUa', 'name': 'Endorsement PDF'}], 'views': [{'id': 'viwy5fg9mQsdXsD2l', 'name': 'Grid view', 'type': 'grid'}]}]}\n"
     ]
    }
   ],
   "source": [
    "url = f\"https://api.airtable.com/v0/meta/bases/{AIRTABLE_BASE_ID}/tables\"\n",
    "response = requests.get(url,headers=headers)\n",
    "print(response.json())"
   ]
  },
  {
   "cell_type": "code",
   "execution_count": 14,
   "id": "93d3bf44",
   "metadata": {},
   "outputs": [
    {
     "data": {
      "text/plain": [
       "{'id': 'tblu2Ck0L9cE5DbSz',\n",
       " 'name': 'Erie Policies',\n",
       " 'primaryFieldId': 'fld9vWLu9iaxeeZ9y',\n",
       " 'fields': [{'type': 'singleLineText',\n",
       "   'id': 'fld9vWLu9iaxeeZ9y',\n",
       "   'name': 'Policy Name'},\n",
       "  {'type': 'singleSelect',\n",
       "   'options': {'choices': [{'id': 'selrmCL3Ug765ruEV',\n",
       "      'name': 'Homeowners',\n",
       "      'color': 'blueLight2'},\n",
       "     {'id': 'sel0m1sPCIUxGqNzl', 'name': 'Auto', 'color': 'cyanLight2'}]},\n",
       "   'id': 'fldYTdA1OH0L3TVyH',\n",
       "   'name': 'Line of Business'},\n",
       "  {'type': 'singleSelect',\n",
       "   'options': {'choices': [{'id': 'selPObA2mbNL1rdKr',\n",
       "      'name': 'Erie',\n",
       "      'color': 'blueLight2'}]},\n",
       "   'id': 'fldEkNfUNtoR6wV3Z',\n",
       "   'name': 'Carrier'},\n",
       "  {'type': 'multilineText', 'id': 'fldsLW7WMVlZp84Y0', 'name': 'Notes'},\n",
       "  {'type': 'checkbox',\n",
       "   'options': {'icon': 'thumbsUp', 'color': 'greenBright'},\n",
       "   'id': 'fld2xIafKL1Lh4UMb',\n",
       "   'name': 'Endorsement Toggle'},\n",
       "  {'type': 'multipleRecordLinks',\n",
       "   'options': {'linkedTableId': 'tbltoWibXc9u9LoPi',\n",
       "    'isReversed': False,\n",
       "    'prefersSingleRecordLink': False,\n",
       "    'inverseLinkFieldId': 'fldW45rdAk4BPOg8i'},\n",
       "   'id': 'fldHrkSa7uA9It6XL',\n",
       "   'name': 'Endorsements'},\n",
       "  {'type': 'count',\n",
       "   'options': {'isValid': True, 'recordLinkFieldId': 'fldHrkSa7uA9It6XL'},\n",
       "   'id': 'fld0Le4GWwhsT61JU',\n",
       "   'name': 'Number of Endorsements'},\n",
       "  {'type': 'rollup',\n",
       "   'options': {'isValid': True,\n",
       "    'recordLinkFieldId': 'fldHrkSa7uA9It6XL',\n",
       "    'fieldIdInLinkedTable': 'fldlNpgVRdnoIRvni',\n",
       "    'referencedFieldIds': [],\n",
       "    'result': {'type': 'date',\n",
       "     'options': {'dateFormat': {'name': 'us', 'format': 'M/D/YYYY'}}}},\n",
       "   'id': 'fldjjXlTTCUsqi7DL',\n",
       "   'name': 'Latest Endorsement Effective Date'},\n",
       "  {'type': 'multipleAttachments',\n",
       "   'options': {'isReversed': False},\n",
       "   'id': 'fldGBZf9LrdpLcGbg',\n",
       "   'name': 'policy attachments'},\n",
       "  {'type': 'url', 'id': 'fldcrKS7kkpekZ6F6', 'name': 'Policy Urls Pdf'}],\n",
       " 'views': [{'id': 'viw6otiEbrhKE416e', 'name': 'Grid view', 'type': 'grid'}]}"
      ]
     },
     "execution_count": 14,
     "metadata": {},
     "output_type": "execute_result"
    }
   ],
   "source": [
    "response.json()['tables'][0]"
   ]
  },
  {
   "cell_type": "markdown",
   "id": "f932d822",
   "metadata": {},
   "source": [
    "### Airtable Webhook Creation Api "
   ]
  },
  {
   "cell_type": "code",
   "execution_count": null,
   "id": "be6d9af8",
   "metadata": {},
   "outputs": [
    {
     "name": "stdout",
     "output_type": "stream",
     "text": [
      "{'id': 'achajGRObwi7DGEHl', 'macSecretBase64': 'z0Mz6inSLyN3XRNqeA3o2NwbgbmbKeWGuUUrjT6jGvu1kcQQsWdp4A3eYF1Vgp/fCqtjLSi9KhWltvpSlmch6IifNitI5Td24fqNd3RnGjrAa+af8xtjD5h+OTzUIq4vvIFOGjZlXtYExQUNsUSFjhzjHxcJwtrnkh9pJ77GKXc=', 'expirationTime': '2025-08-29T11:33:56.788Z'}\n"
     ]
    }
   ],
   "source": [
    "import requests\n",
    "\n",
    "TABLE_ID = \"tblu2Ck0L9cE5DbSz\" \n",
    "AIRTABLE_BASE_ID = os.getenv(\"AIRTABLE_BASE_ID\")\n",
    "AIRTABLE_API_KEY = os.getenv(\"AIRTABLE_API_KEY\")\n",
    "\n",
    "url = f\"https://api.airtable.com/v0/bases/{AIRTABLE_BASE_ID}/webhooks\"\n",
    "\n",
    "payload = {\n",
    "  \"notificationUrl\": \"https://chrome-extension.duckdns.org/airtable-webhook\",\n",
    "  \"specification\": {\n",
    "    \"options\": {\n",
    "      \"filters\": {\n",
    "        \"dataTypes\": [\"tableData\"],      \n",
    "        \"recordChangeScope\": TABLE_ID,   \n",
    "        \"changeTypes\": [\"add\", \"update\", \"remove\"]  \n",
    "      },\n",
    "      \"includes\": {\n",
    "        \"includeCellValuesInFieldIds\": \"all\", \n",
    "        \"includePreviousCellValues\": True     \n",
    "      }\n",
    "    }\n",
    "  }\n",
    "}\n",
    "\n",
    "headers = {\n",
    "    \"Authorization\": f\"Bearer {AIRTABLE_API_KEY}\",\n",
    "    \"Content-Type\": \"application/json\"\n",
    "}\n",
    "\n",
    "resp = requests.post(url, json=payload, headers=headers)\n",
    "print(resp.json())\n"
   ]
  },
  {
   "cell_type": "code",
   "execution_count": 4,
   "id": "74e0c875",
   "metadata": {},
   "outputs": [
    {
     "data": {
      "text/plain": [
       "True"
      ]
     },
     "execution_count": 4,
     "metadata": {},
     "output_type": "execute_result"
    }
   ],
   "source": [
    "import requests\n",
    "import os \n",
    "from dotenv import load_dotenv\n",
    "\n",
    "load_dotenv()"
   ]
  },
  {
   "cell_type": "code",
   "execution_count": 15,
   "id": "b1e55b45",
   "metadata": {},
   "outputs": [
    {
     "name": "stdout",
     "output_type": "stream",
     "text": [
      "Deleted webhook: achTVtunRNksnPDFR\n",
      "Deleted webhook: achscMkQvVjAnHB4W\n"
     ]
    }
   ],
   "source": [
    "BASE_ID = os.getenv(\"AIRTABLE_BASE_ID\")\n",
    "TABLE_ID = \"tblu2Ck0L9cE5DbSz\"\n",
    "API_KEY = os.getenv(\"AIRTABLE_API_KEY\")\n",
    "API_URL = f\"https://api.airtable.com/v0/bases/{BASE_ID}/webhooks\"\n",
    "HEADERS = {\n",
    "    \"Authorization\": f\"Bearer {API_KEY}\",\n",
    "    \"Content-Type\": \"application/json\"\n",
    "}\n",
    "\n",
    "# 1. List all webhooks\n",
    "resp = requests.get(API_URL, headers=HEADERS)\n",
    "resp.raise_for_status()\n",
    "webhooks = resp.json().get(\"webhooks\", [])\n",
    "\n",
    "# 2. Delete each webhook\n",
    "for wh in webhooks:\n",
    "    wh_id = wh[\"id\"]\n",
    "    del_url = f\"{API_URL}/{wh_id}\"\n",
    "    d_resp = requests.delete(del_url, headers=HEADERS)\n",
    "    d_resp.raise_for_status()\n",
    "    print(f\"Deleted webhook: {wh_id}\")\n",
    "\n",
    "# # 3. Create a new webhook\n",
    "# payload = {\n",
    "#     \"notificationUrl\": \"https://4a65ad8e4b0a.ngrok-free.app/airtable-webhook\",\n",
    "#     \"specification\": {\n",
    "#         \"options\": {\n",
    "#             \"filters\": {\n",
    "#                 \"dataTypes\": [\"tableData\"],\n",
    "#                 \"recordChangeScope\": TABLE_ID,\n",
    "#                 \"changeTypes\": [\"add\", \"update\", \"remove\"]\n",
    "#             },\n",
    "#             \"includes\": {\n",
    "#                 \"includeCellValuesInFieldIds\": \"all\",\n",
    "#                 \"includePreviousCellValues\": True\n",
    "#             }\n",
    "#         }\n",
    "#     }\n",
    "# }\n",
    "\n",
    "# c_resp = requests.post(API_URL, json=payload, headers=HEADERS)\n",
    "# c_resp.raise_for_status()\n",
    "# print(\"Created new webhook:\", c_resp.json())\n"
   ]
  },
  {
   "cell_type": "code",
   "execution_count": null,
   "id": "b311470e",
   "metadata": {},
   "outputs": [
    {
     "data": {
      "text/plain": [
       "{}"
      ]
     },
     "execution_count": 3,
     "metadata": {},
     "output_type": "execute_result"
    }
   ],
   "source": [
    "from fastapi import FastAPI, Query, HTTPException\n",
    "import requests\n",
    "import os\n",
    "from dotenv import load_dotenv\n",
    "\n",
    "load_dotenv()\n",
    "app = FastAPI()\n",
    "\n",
    "\n",
    "AIRTABLE_API_KEY = os.getenv(\"AIRTABLE_API_KEY\")\n",
    "AIRTABLE_BASE_ID = os.getenv(\"AIRTABLE_BASE_ID\")\n",
    "AIRTABLE_TABLE_NAME = os.getenv(\"AIRTABLE_TABLE_NAME\")\n",
    "ENDORSEMENT_TABLE_NAME = os.getenv(\"ENDORSEMENT_TABLE_NAME\")\n",
    "\n",
    "@app.get(\"/search_policy\")\n",
    "def search_policy(policy_name: str):\n",
    "    \"\"\"\n",
    "    Search for a record in Airtable by Policy Name and build metadata with base policy + endorsements.\n",
    "    \"\"\"\n",
    "    SEARCH_COLUMN = \"Policy Name\"\n",
    "    url = f\"https://api.airtable.com/v0/{AIRTABLE_BASE_ID}/{AIRTABLE_TABLE_NAME}\"\n",
    "\n",
    "    formula = f\"{{{SEARCH_COLUMN}}}='{policy_name}'\"\n",
    "    headers = {\"Authorization\": f\"Bearer {AIRTABLE_API_KEY}\"}\n",
    "    params = {\"filterByFormula\": formula, \"maxRecords\": 1}\n",
    "\n",
    "    response = requests.get(url, headers=headers, params=params)\n",
    "    if response.status_code != 200:\n",
    "        raise HTTPException(status_code=response.status_code, detail=response.text)\n",
    "\n",
    "    records = response.json().get(\"records\", [])\n",
    "    if not records:\n",
    "        return {\"message\": \"No matching records found.\"}\n",
    "\n",
    "    record = records[0]\n",
    "    fields = record.get(\"fields\", {})\n",
    "\n",
    "    meta_data = {}\n",
    "\n",
    "    # 1. Get base policy filename\n",
    "    attachments = fields.get(\"policy attachments\", [])\n",
    "    if attachments:\n",
    "        base_filename = attachments[0].get(\"filename\")\n",
    "        meta_data[\"base_policy_filename\"] = base_filename\n",
    "\n",
    "    # 2. Loop over endorsements\n",
    "    endorsement_ids = fields.get(\"Endorsements\", [])\n",
    "    for idx, endorsement_id in enumerate(endorsement_ids, start=1):\n",
    "        end_url = f\"https://api.airtable.com/v0/{AIRTABLE_BASE_ID}/{ENDORSEMENT_TABLE_NAME}/{endorsement_id}\"\n",
    "        end_resp = requests.get(end_url, headers=headers)\n",
    "        if end_resp.status_code != 200:\n",
    "            continue  # skip if error\n",
    "        end_record = end_resp.json()\n",
    "        end_fields = end_record.get(\"fields\", {})\n",
    "\n",
    "        endorsement_files = end_fields.get(\"Endorsement PDF\", [])\n",
    "        if endorsement_files:\n",
    "            filename = endorsement_files[0].get(\"filename\")\n",
    "            meta_data[f\"endorsement_{idx}\"] = filename\n",
    "\n",
    "    return {\"policy_name\":policy_name ,\"metadata\":meta_data , \"status_code\":200}\n",
    "search_policy(\"WV AUTO POLICY\")"
   ]
  }
 ],
 "metadata": {
  "kernelspec": {
   "display_name": ".venv",
   "language": "python",
   "name": "python3"
  },
  "language_info": {
   "codemirror_mode": {
    "name": "ipython",
    "version": 3
   },
   "file_extension": ".py",
   "mimetype": "text/x-python",
   "name": "python",
   "nbconvert_exporter": "python",
   "pygments_lexer": "ipython3",
   "version": "3.12.11"
  }
 },
 "nbformat": 4,
 "nbformat_minor": 5
}
